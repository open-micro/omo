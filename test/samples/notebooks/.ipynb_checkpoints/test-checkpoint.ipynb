{
 "cells": [
  {
   "cell_type": "code",
   "execution_count": 1,
   "metadata": {},
   "outputs": [
    {
     "data": {
      "text/plain": [
       "'\\nThis program takes data (prep, tag, sentence) from a google sheets csv and formats it into the guillaume data format\\n'"
      ]
     },
     "execution_count": 1,
     "metadata": {},
     "output_type": "execute_result"
    }
   ],
   "source": [
    "\"\"\"\n",
    "This program takes data (prep, tag, sentence) from a google sheets csv and formats it into the guillaume data format\n",
    "\"\"\""
   ]
  },
  {
   "cell_type": "code",
   "execution_count": 2,
   "metadata": {
    "collapsed": true
   },
   "outputs": [],
   "source": [
    "dev_perc = 45\n",
    "train_perc = 55\n",
    "data_folder = 'Guillaume_Data_test/'"
   ]
  },
  {
   "cell_type": "code",
   "execution_count": 3,
   "metadata": {
    "collapsed": true
   },
   "outputs": [],
   "source": [
    "import pandas as pd\n",
    "import numpy as np\n",
    "import math"
   ]
  },
  {
   "cell_type": "code",
   "execution_count": 4,
   "metadata": {
    "collapsed": true
   },
   "outputs": [],
   "source": [
    "def possibilities(preposition):\n",
    "    pos = []\n",
    "    pos.append(preposition)\n",
    "    pos.append(preposition[:1].upper()+preposition[1:])\n",
    "    \n",
    "    pos_dict = dict()\n",
    "    for prep in pos:\n",
    "        pos_dict[prep] = '_'\n",
    "    \n",
    "    return pos_dict"
   ]
  },
  {
   "cell_type": "code",
   "execution_count": 5,
   "metadata": {},
   "outputs": [
    {
     "data": {
      "text/html": [
       "<div>\n",
       "<style>\n",
       "    .dataframe thead tr:only-child th {\n",
       "        text-align: right;\n",
       "    }\n",
       "\n",
       "    .dataframe thead th {\n",
       "        text-align: left;\n",
       "    }\n",
       "\n",
       "    .dataframe tbody tr th {\n",
       "        vertical-align: top;\n",
       "    }\n",
       "</style>\n",
       "<table border=\"1\" class=\"dataframe\">\n",
       "  <thead>\n",
       "    <tr style=\"text-align: right;\">\n",
       "      <th></th>\n",
       "      <th>0</th>\n",
       "      <th>1</th>\n",
       "      <th>2</th>\n",
       "    </tr>\n",
       "  </thead>\n",
       "  <tbody>\n",
       "    <tr>\n",
       "      <th>0</th>\n",
       "      <td>around</td>\n",
       "      <td>Location</td>\n",
       "      <td>I am around the building</td>\n",
       "    </tr>\n",
       "    <tr>\n",
       "      <th>1</th>\n",
       "      <td>to</td>\n",
       "      <td>Destination</td>\n",
       "      <td>I am going to the store</td>\n",
       "    </tr>\n",
       "    <tr>\n",
       "      <th>2</th>\n",
       "      <td>of</td>\n",
       "      <td>Superset</td>\n",
       "      <td>I am 1 of 10</td>\n",
       "    </tr>\n",
       "  </tbody>\n",
       "</table>\n",
       "</div>"
      ],
      "text/plain": [
       "         0            1                         2\n",
       "0  around      Location  I am around the building\n",
       "1       to  Destination   I am going to the store\n",
       "2       of     Superset              I am 1 of 10"
      ]
     },
     "execution_count": 5,
     "metadata": {},
     "output_type": "execute_result"
    }
   ],
   "source": [
    "data = pd.read_csv('gstest - data.csv', header=None, sep=',')\n",
    "data.head()"
   ]
  },
  {
   "cell_type": "code",
   "execution_count": 6,
   "metadata": {},
   "outputs": [
    {
     "data": {
      "text/html": [
       "<div>\n",
       "<style>\n",
       "    .dataframe thead tr:only-child th {\n",
       "        text-align: right;\n",
       "    }\n",
       "\n",
       "    .dataframe thead th {\n",
       "        text-align: left;\n",
       "    }\n",
       "\n",
       "    .dataframe tbody tr th {\n",
       "        vertical-align: top;\n",
       "    }\n",
       "</style>\n",
       "<table border=\"1\" class=\"dataframe\">\n",
       "  <thead>\n",
       "    <tr style=\"text-align: right;\">\n",
       "      <th></th>\n",
       "      <th>0</th>\n",
       "      <th>1</th>\n",
       "      <th>2</th>\n",
       "    </tr>\n",
       "  </thead>\n",
       "  <tbody>\n",
       "    <tr>\n",
       "      <th>0</th>\n",
       "      <td>around</td>\n",
       "      <td>Location</td>\n",
       "      <td>I am around the building</td>\n",
       "    </tr>\n",
       "    <tr>\n",
       "      <th>1</th>\n",
       "      <td>to</td>\n",
       "      <td>Destination</td>\n",
       "      <td>I am going to the store</td>\n",
       "    </tr>\n",
       "    <tr>\n",
       "      <th>2</th>\n",
       "      <td>of</td>\n",
       "      <td>Superset</td>\n",
       "      <td>I am 1 of 10</td>\n",
       "    </tr>\n",
       "  </tbody>\n",
       "</table>\n",
       "</div>"
      ],
      "text/plain": [
       "         0            1                         2\n",
       "0  around      Location  I am around the building\n",
       "1       to  Destination   I am going to the store\n",
       "2       of     Superset              I am 1 of 10"
      ]
     },
     "execution_count": 6,
     "metadata": {},
     "output_type": "execute_result"
    }
   ],
   "source": [
    "data = data.sample(frac=1).reset_index(drop=True)\n",
    "data.head()"
   ]
  },
  {
   "cell_type": "code",
   "execution_count": 7,
   "metadata": {},
   "outputs": [
    {
     "name": "stdout",
     "output_type": "stream",
     "text": [
      "1\n",
      "2\n"
     ]
    }
   ],
   "source": [
    "cases = len(data)\n",
    "\n",
    "dev_cutoff = math.floor((cases / 100) * dev_perc)\n",
    "train_cutoff = math.floor((cases / 100) * train_perc) + dev_cutoff\n",
    "\n",
    "print(dev_cutoff)\n",
    "print(train_cutoff)"
   ]
  },
  {
   "cell_type": "code",
   "execution_count": 8,
   "metadata": {
    "collapsed": true
   },
   "outputs": [],
   "source": [
    "with open(data_folder + 'SeqTagDev.txt', 'a', encoding='utf-8') as d:\n",
    "    with open(data_folder + 'SeqTagTrain.txt', 'a', encoding='utf-8') as t:\n",
    "        \n",
    "        for line in range(len(data)):\n",
    "            tok_sent = data.iloc[line][2].split()\n",
    "            pos_dict = possibilities(data.iloc[line][0])\n",
    "\n",
    "            if line < dev_cutoff:\n",
    "                d.write('\\n')\n",
    "                for tok in tok_sent:\n",
    "                    if tok in pos_dict:\n",
    "                        d.write(tok + ' ' + data.iloc[line][1] + '\\n')\n",
    "                    else:\n",
    "                        d.write(tok + ' O\\n')\n",
    "            else:\n",
    "                t.write('\\n')\n",
    "                for tok in tok_sent:\n",
    "                    if tok in pos_dict:\n",
    "                        t.write(tok + ' ' + data.iloc[line][1] + '\\n')\n",
    "                    else:\n",
    "                        t.write(tok + ' O\\n')\n",
    "\n",
    "        \n",
    "        t.close()\n",
    "    d.close()             "
   ]
  },
  {
   "cell_type": "code",
   "execution_count": null,
   "metadata": {
    "collapsed": true
   },
   "outputs": [],
   "source": []
  }
 ],
 "metadata": {
  "kernelspec": {
   "display_name": "Python 2",
   "language": "python",
   "name": "python2"
  },
  "language_info": {
   "codemirror_mode": {
    "name": "ipython",
    "version": 2
   },
   "file_extension": ".py",
   "mimetype": "text/x-python",
   "name": "python",
   "nbconvert_exporter": "python",
   "pygments_lexer": "ipython2",
   "version": "2.7.14"
  }
 },
 "nbformat": 4,
 "nbformat_minor": 2
}
